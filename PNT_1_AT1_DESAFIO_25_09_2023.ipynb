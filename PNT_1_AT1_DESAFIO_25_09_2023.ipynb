{
  "nbformat": 4,
  "nbformat_minor": 0,
  "metadata": {
    "colab": {
      "provenance": [],
      "authorship_tag": "ABX9TyPZrSZIwdWVS18DcLgWSYGL",
      "include_colab_link": true
    },
    "kernelspec": {
      "name": "python3",
      "display_name": "Python 3"
    },
    "language_info": {
      "name": "python"
    }
  },
  "cells": [
    {
      "cell_type": "markdown",
      "metadata": {
        "id": "view-in-github",
        "colab_type": "text"
      },
      "source": [
        "<a href=\"https://colab.research.google.com/github/luizworldtec/PNT-Modulo-1-ETE-Cicero-Dias/blob/main/PNT_1_AT1_DESAFIO_25_09_2023.ipynb\" target=\"_parent\"><img src=\"https://colab.research.google.com/assets/colab-badge.svg\" alt=\"Open In Colab\"/></a>"
      ]
    },
    {
      "cell_type": "markdown",
      "source": [
        "**PNT 1 - AT1 DESAFIO 25-09-2023**"
      ],
      "metadata": {
        "id": "hwDGO6WK64al"
      }
    },
    {
      "cell_type": "markdown",
      "source": [
        "1) Faça um CÓDIGO que mostre a mensagem \"Olá ETE CÍCERO DIAS!\" na tela."
      ],
      "metadata": {
        "id": "ILpsSFPk7Dk8"
      }
    },
    {
      "cell_type": "code",
      "execution_count": null,
      "metadata": {
        "colab": {
          "base_uri": "https://localhost:8080/"
        },
        "id": "hKLDhU716xps",
        "outputId": "2702ce19-2aba-4db5-b8d3-2044eaea78af"
      },
      "outputs": [
        {
          "output_type": "stream",
          "name": "stdout",
          "text": [
            "Olá ETE CÍCERO DIAS!\n"
          ]
        }
      ],
      "source": [
        "print('Olá ETE CÍCERO DIAS!')"
      ]
    },
    {
      "cell_type": "markdown",
      "source": [
        "2) Faça um CÓDIGO que peça um número e então mostre a mensagem \"O número informado foi [número]\"."
      ],
      "metadata": {
        "id": "h3V8sgm37fWK"
      }
    },
    {
      "cell_type": "code",
      "source": [
        "numero = input('Informe um número: ')\n",
        "print(f'O número informado foi {numero}.')"
      ],
      "metadata": {
        "colab": {
          "base_uri": "https://localhost:8080/"
        },
        "id": "okBEWuNL7n53",
        "outputId": "424ca770-380d-4ed7-b945-019774ac1b1a"
      },
      "execution_count": null,
      "outputs": [
        {
          "output_type": "stream",
          "name": "stdout",
          "text": [
            "Informe um número: 2\n",
            "O número informado foi 2.\n"
          ]
        }
      ]
    },
    {
      "cell_type": "markdown",
      "source": [
        "3) Faça um CÓDIGO que peça dois números e imprima a soma."
      ],
      "metadata": {
        "id": "0swg-ReV8JA1"
      }
    },
    {
      "cell_type": "code",
      "source": [
        "numero1 = int(input('Informe um número: '))\n",
        "numero2 = int(input('Informe um outro número (pode ser igual ao anterior, se quiser): '))\n",
        "soma = numero1 + numero2\n",
        "print(f'A soma deu {soma}.')"
      ],
      "metadata": {
        "id": "z1TPTkNOCLz9"
      },
      "execution_count": null,
      "outputs": []
    },
    {
      "cell_type": "markdown",
      "source": [
        "4) Faça um CÓDIGO que peça as 4 notas bimestrais e mostre a média final."
      ],
      "metadata": {
        "id": "ol9MQ5igzn8v"
      }
    },
    {
      "cell_type": "code",
      "source": [
        "numero1 = float(input('Informe a 1ª nota: '))\n",
        "numero2 = float(input('Informe a 2ª nota: '))\n",
        "numero3 = float(input('Informe a 3ª nota): '))\n",
        "numero4 = float(input('Informe a 4ª nota): '))\n",
        "mediaAritmetica = (numero1 + numero2 + numero3 + numero4) / 4\n",
        "print(f'A média final deu {mediaAritmetica}')"
      ],
      "metadata": {
        "colab": {
          "base_uri": "https://localhost:8080/"
        },
        "id": "PQBMb_Cpzrzt",
        "outputId": "3dcf2d0c-cba1-490b-c1f7-c1f4b8b422a8"
      },
      "execution_count": null,
      "outputs": [
        {
          "output_type": "stream",
          "name": "stdout",
          "text": [
            "Informe a 1ª nota: 7.5\n",
            "Informe a 2ª nota: 7.5\n",
            "Informe a 3ª nota): 8\n",
            "Informe a 4ª nota): 9\n",
            "A média final deu 8.0\n"
          ]
        }
      ]
    },
    {
      "cell_type": "markdown",
      "source": [
        "5) Faça um CÓDIGO que converta metros para centímetros."
      ],
      "metadata": {
        "id": "oI0Crox81CtQ"
      }
    },
    {
      "cell_type": "code",
      "source": [
        "numero1 = float(input('Informe uma medida em metros (m): '))\n",
        "convCm = numero1 * (10**2)\n",
        "print(f'{numero1} m é equivalente a {convCm} cm.')"
      ],
      "metadata": {
        "colab": {
          "base_uri": "https://localhost:8080/"
        },
        "id": "bQFhS0ys1Dkn",
        "outputId": "c21f0bdc-2ab7-4870-d67f-17b45e2349b0"
      },
      "execution_count": null,
      "outputs": [
        {
          "output_type": "stream",
          "name": "stdout",
          "text": [
            "Informe uma medida em metros (m) 1\n",
            "1.0 m é equivalente a 100.0 cm.\n"
          ]
        }
      ]
    },
    {
      "cell_type": "markdown",
      "source": [
        "6) Faça um CÓDIGO que peça o raio de um círculo, calcule e mostre sua área."
      ],
      "metadata": {
        "id": "3PvKCuuh19SN"
      }
    },
    {
      "cell_type": "code",
      "source": [
        "r = float(input('Informe a medida do raio da circunferência no padrão do SI, que é em metros (m): '))\n",
        "import math\n",
        "areaCirculo = (math.pi)*(r**2)\n",
        "print(f'A área do círculo deu {areaCirculo} m².')"
      ],
      "metadata": {
        "colab": {
          "base_uri": "https://localhost:8080/"
        },
        "id": "FYGq8NNc2Bt7",
        "outputId": "6179848d-0902-44f5-bf94-f6f932651496"
      },
      "execution_count": null,
      "outputs": [
        {
          "output_type": "stream",
          "name": "stdout",
          "text": [
            "Informe a medida do raio da circunferência no padrão do SI, que é em metros (m): 1\n",
            "A área do círculo deu 3.141592653589793 m².\n"
          ]
        }
      ]
    },
    {
      "cell_type": "markdown",
      "source": [
        "7) Faça um CÓDIGO que calcule a área de um quadrado, em seguida mostre o dobro desta área para o usuário."
      ],
      "metadata": {
        "id": "WetKlZIA3du6"
      }
    },
    {
      "cell_type": "code",
      "source": [
        "l = float(input('Informe a medida do lado do quadrado no padrão do SI, que é em metros (m): '))\n",
        "areaQvezes2 = (l**2)*2\n",
        "print(f'O dobro da área do quadrado deu {areaQvezes2} m².')"
      ],
      "metadata": {
        "colab": {
          "base_uri": "https://localhost:8080/"
        },
        "id": "1D-durap3lYB",
        "outputId": "5dd2e71f-51eb-4c85-9495-c45ef1b4b5cc"
      },
      "execution_count": null,
      "outputs": [
        {
          "output_type": "stream",
          "name": "stdout",
          "text": [
            "Informe a medida do lado do quadrado no padrão do SI, que é em metros (m): 2\n",
            "O dobro da área do quadrado deu 8.0 m².\n"
          ]
        }
      ]
    },
    {
      "cell_type": "markdown",
      "source": [
        "8) Faça um CÓDIGO que pergunte quanto você ganha por hora e o número de horas trabalhadas no mês. Calcule e mostre o total do seu salário no referido mês."
      ],
      "metadata": {
        "id": "1N-YgWmE4Ndy"
      }
    },
    {
      "cell_type": "code",
      "source": [
        "ganhoPorHora = float(input('Quanto você ganha por hora? '))\n",
        "horasTrabalhadas = float(input('Quantas horas você trabalhou no mês? '))\n",
        "salario = ganhoPorHora * horasTrabalhadas\n",
        "print(f'Seu salário é de R${salario}')"
      ],
      "metadata": {
        "colab": {
          "base_uri": "https://localhost:8080/"
        },
        "id": "KLM_mdV74SHi",
        "outputId": "988a976c-5e1c-4450-8e1e-f2d34c077049"
      },
      "execution_count": null,
      "outputs": [
        {
          "output_type": "stream",
          "name": "stdout",
          "text": [
            "Quanto você ganha por hora? 5\n",
            "Quantas horas você trabalhou no mês? 3000\n",
            "Seu salário é de R$15000.0\n"
          ]
        }
      ]
    },
    {
      "cell_type": "markdown",
      "source": [
        "9) Faça um CÓDIGO que peça um valor e mostre na tela se o valor é positivo ou negativo."
      ],
      "metadata": {
        "id": "F31cSS4u5Kho"
      }
    },
    {
      "cell_type": "code",
      "source": [
        "x = float(input('Informe um número: '))\n",
        "if x > 0 :\n",
        "  print(f'O número {x} é positivo.')\n",
        "else :\n",
        "  if x < 0 :\n",
        "    print(f'O número {x} é negativo.')\n",
        "  else :\n",
        "    print(f'O número {x} é neutro.')"
      ],
      "metadata": {
        "colab": {
          "base_uri": "https://localhost:8080/"
        },
        "id": "sSMH3Uu55PgA",
        "outputId": "b30c8dfd-aa01-45c2-b5da-14828e004027"
      },
      "execution_count": null,
      "outputs": [
        {
          "output_type": "stream",
          "name": "stdout",
          "text": [
            "Informe um número: 0\n",
            "O número 0.0 é neutro.\n"
          ]
        }
      ]
    },
    {
      "cell_type": "markdown",
      "source": [
        "10) Faça um CÓDIGO que verifique se uma letra digitada é \"F\" ou \"M\". Conforme a letra escrever: F - Feminino, M - Masculino, Sexo Inválido."
      ],
      "metadata": {
        "id": "cdQue5mu6Vto"
      }
    },
    {
      "cell_type": "code",
      "source": [
        "x = (input('Digite seu sexo (para feminino, digite \"F\" ou \"f\"; e para masculino digite \"M\" ou \"m\"): '))\n",
        "if (x == 'F') or (x == 'f') :\n",
        "  print(f'Feminino.')\n",
        "else :\n",
        "  if (x == 'M') or (x == 'm') :\n",
        "    print(f'Masculino.')\n",
        "  else :\n",
        "    print(f'Sexo inválido. Você digitou corretamente as opções informadas?')"
      ],
      "metadata": {
        "colab": {
          "base_uri": "https://localhost:8080/"
        },
        "id": "xUYR0OMJ6bCP",
        "outputId": "26cae169-59b0-4b7e-cc51-9facaf334b24"
      },
      "execution_count": null,
      "outputs": [
        {
          "output_type": "stream",
          "name": "stdout",
          "text": [
            "Digite seu sexo (para feminino, digite \"F\" ou \"f\"; e para masculino digite \"M\" ou \"m\"): M\n",
            "Masculino.\n"
          ]
        }
      ]
    }
  ]
}