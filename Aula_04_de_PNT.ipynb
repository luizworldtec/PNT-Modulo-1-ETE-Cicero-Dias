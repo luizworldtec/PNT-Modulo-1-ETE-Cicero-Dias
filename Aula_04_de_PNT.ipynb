{
  "nbformat": 4,
  "nbformat_minor": 0,
  "metadata": {
    "colab": {
      "provenance": [],
      "authorship_tag": "ABX9TyPmnNxcLZpky1XixvIzOs22",
      "include_colab_link": true
    },
    "kernelspec": {
      "name": "python3",
      "display_name": "Python 3"
    },
    "language_info": {
      "name": "python"
    }
  },
  "cells": [
    {
      "cell_type": "markdown",
      "metadata": {
        "id": "view-in-github",
        "colab_type": "text"
      },
      "source": [
        "<a href=\"https://colab.research.google.com/github/luizworldtec/PNT-Modulo-1-ETE-Cicero-Dias/blob/main/Aula_04_de_PNT.ipynb\" target=\"_parent\"><img src=\"https://colab.research.google.com/assets/colab-badge.svg\" alt=\"Open In Colab\"/></a>"
      ]
    },
    {
      "cell_type": "code",
      "execution_count": null,
      "metadata": {
        "colab": {
          "base_uri": "https://localhost:8080/",
          "height": 35
        },
        "id": "tMU1khUdiS_W",
        "outputId": "5e6a5c1a-e940-471a-9919-61379144179b"
      },
      "outputs": [
        {
          "output_type": "execute_result",
          "data": {
            "text/plain": [
              "' ETE Cícero Dias\\n# DOCENTE: Cloves Rocha\\n# ESTUDANTE: Luiz Neto\\n# print(\"Luiz\")\\n# --> TIPOS PRIMITIVOS DE DADOS:\\nL = False\\nprint(type(L)) '"
            ],
            "application/vnd.google.colaboratory.intrinsic+json": {
              "type": "string"
            }
          },
          "metadata": {},
          "execution_count": 15
        }
      ],
      "source": [
        "# ETE Cícero Dias\n",
        "# DOCENTE: Cloves Rocha\n",
        "# ESTUDANTE: Luiz Neto\n",
        "# print(\"Luiz\")\n",
        "# --> TIPOS PRIMITIVOS DE DADOS:\n",
        "L = False\n",
        "print(type(L))"
      ]
    }
  ]
}