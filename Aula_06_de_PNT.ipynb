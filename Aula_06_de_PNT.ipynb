{
  "nbformat": 4,
  "nbformat_minor": 0,
  "metadata": {
    "colab": {
      "provenance": [],
      "authorship_tag": "ABX9TyM9CTVX0KQ9Z4ylh0h357wR",
      "include_colab_link": true
    },
    "kernelspec": {
      "name": "python3",
      "display_name": "Python 3"
    },
    "language_info": {
      "name": "python"
    }
  },
  "cells": [
    {
      "cell_type": "markdown",
      "metadata": {
        "id": "view-in-github",
        "colab_type": "text"
      },
      "source": [
        "<a href=\"https://colab.research.google.com/github/luizworldtec/PNT-Modulo-1-ETE-Cicero-Dias/blob/main/Aula_06_de_PNT.ipynb\" target=\"_parent\"><img src=\"https://colab.research.google.com/assets/colab-badge.svg\" alt=\"Open In Colab\"/></a>"
      ]
    },
    {
      "cell_type": "code",
      "execution_count": 29,
      "metadata": {
        "colab": {
          "base_uri": "https://localhost:8080/"
        },
        "id": "e6wx5-SyuCBp",
        "outputId": "92a6724f-eec3-46ce-fc76-e2e9e886ba84"
      },
      "outputs": [
        {
          "output_type": "execute_result",
          "data": {
            "text/plain": [
              "True"
            ]
          },
          "metadata": {},
          "execution_count": 29
        }
      ],
      "source": [
        "from os import name\n",
        "# ETE Cícero Dias\n",
        "# DOCENTE: Cloves Rocha\n",
        "# ESTUDANTE: Luiz Neto\n",
        "# print(\"Luiz\")\n",
        "# --------------------------\n",
        "# LINK PRA BAIXAR O PYTHON MASTER:\n",
        "# https://apkpure.com/br/python-master-learn-to-code/com.python.coding.education\n",
        "# --------------------------\n",
        "# 3) OPERADORES ARITMÉTICOS:\n",
        "# 10+1\n",
        "# 10-1\n",
        "# 4*3\n",
        "# 10/3\n",
        "# 10//3\n",
        "# 2**3\n",
        "# 13%2\n",
        "\n",
        "# c = 2**3\n",
        "# print(c)\n",
        "\n",
        "# 4) OPERADORES RELACIONAIS SIMPLES:\n",
        "# 7 > 5\n",
        "# 10 < 15\n",
        "\n",
        "# nota4 = 10\n",
        "# nota8 = \"dez\"\n",
        "# nota4 == nota8\n",
        "\n",
        "# notaA = 5\n",
        "# notaB = 10\n",
        "# notaA = notaB\n",
        "# print(notaA)\n",
        "\n",
        "# 5) OPERADORES RELACIONAIS COMPOSTOS:\n",
        "\n",
        "# na = 5\n",
        "# nb = 6\n",
        "# nc = 8\n",
        "# nd = 10\n",
        "# na > nb\n",
        "\n",
        "#7 >= 6\n",
        "#print(\"Estudante aprovado!\")\n",
        "#7 <= 10\n",
        "a=10\n",
        "b=101\n",
        "a!=b"
      ]
    },
    {
      "cell_type": "code",
      "source": [
        "nome = input(\"Digite seu nome: \")\n",
        "print(f\"Seu nome é {nome}.\")"
      ],
      "metadata": {
        "colab": {
          "base_uri": "https://localhost:8080/"
        },
        "id": "cav-1JcpzdUz",
        "outputId": "28991ac4-f469-4cd5-b88f-c8e58e8b53a1"
      },
      "execution_count": 42,
      "outputs": [
        {
          "output_type": "stream",
          "name": "stdout",
          "text": [
            "Digite seu nome: Luiz\n",
            "Seu nome é Luiz.\n"
          ]
        }
      ]
    },
    {
      "cell_type": "code",
      "source": [
        "idade = float(input('Digite sua idade: '))\n",
        "print(f'Você tem {idade} anos.')\n",
        "print(type(idade))"
      ],
      "metadata": {
        "colab": {
          "base_uri": "https://localhost:8080/"
        },
        "id": "yXHFE6jz1Dea",
        "outputId": "baa30a98-59d5-4a53-90b7-b22360acd0e5"
      },
      "execution_count": 51,
      "outputs": [
        {
          "output_type": "stream",
          "name": "stdout",
          "text": [
            "Digite sua idade: 5\n",
            "Você tem 5.0 anos.\n",
            "<class 'float'>\n"
          ]
        }
      ]
    }
  ]
}